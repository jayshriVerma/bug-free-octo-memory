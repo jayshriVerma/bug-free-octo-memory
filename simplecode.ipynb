{
  "nbformat": 4,
  "nbformat_minor": 0,
  "metadata": {
    "colab": {
      "name": "simplecode.ipynb",
      "provenance": [],
      "authorship_tag": "ABX9TyMPQx7nHL5w9QSyrQudwVCL",
      "include_colab_link": true
    },
    "kernelspec": {
      "name": "python3",
      "display_name": "Python 3"
    },
    "language_info": {
      "name": "python"
    }
  },
  "cells": [
    {
      "cell_type": "markdown",
      "metadata": {
        "id": "view-in-github",
        "colab_type": "text"
      },
      "source": [
        "<a href=\"https://colab.research.google.com/github/jayshriVerma/bug-free-octo-memory/blob/master/simplecode.ipynb\" target=\"_parent\"><img src=\"https://colab.research.google.com/assets/colab-badge.svg\" alt=\"Open In Colab\"/></a>"
      ]
    },
    {
      "cell_type": "code",
      "metadata": {
        "id": "CZGFlhLh8SIi",
        "colab": {
          "base_uri": "https://localhost:8080/"
        },
        "outputId": "e67f17e2-8385-46e9-a7bc-eee336b0fb29"
      },
      "source": [
        "#Finding the difference of length of max letter word and min letter word\n",
        "a1 = [\"hoqq\", \"bbllkw\", \"oox\", \"ejjuyyy\", \"plmiis\", \"xxxzgpsssa\", \"xxwwkktt\", \"znnnnfqknaz\", \"qqquuhii\", \"dvvvwz\"]\n",
        "a2 = [\"cccooommaaqqoxii\", \"gggqaffhhh\", \"tttoowwwmmww\"] #ans;13\n",
        "def mxdiflg(a1, a2): \n",
        "    if not (a1 and a2):return -1\n",
        "    if a1 and a2:\n",
        "        a, b = len(max(a1,key=len)),len(min(a1,key=len))  \n",
        "        c, d = len(max(a2,key=len)),len(min(a2,key=len)) \n",
        "        return max([abs(a-d),abs(c-b)],default=-1 )\n",
        "  #Maximum Length Difference \n",
        "mxdiflg(a1,a2)"
      ],
      "execution_count": 1,
      "outputs": [
        {
          "output_type": "execute_result",
          "data": {
            "text/plain": [
              "13"
            ]
          },
          "metadata": {
            "tags": []
          },
          "execution_count": 1
        }
      ]
    }
  ]
}